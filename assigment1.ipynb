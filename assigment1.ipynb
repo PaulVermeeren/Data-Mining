{
 "cells": [
  {
   "cell_type": "code",
   "execution_count": null,
   "metadata": {},
   "outputs": [],
   "source": [
    "def tree_grow(x, y, nmin, minleaf, nfeat):\n",
    "\n",
    "    def tree_grow_b(x, y, nmin, minleaf, nfeat, m):\n",
    "        return\n",
    "\n",
    "def tree_pred(x, tr):\n",
    "\n",
    "    def tree_pred_b(trees, x):\n",
    "        return"
   ]
  }
 ],
 "metadata": {
  "language_info": {
   "name": "python"
  },
  "orig_nbformat": 4
 },
 "nbformat": 4,
 "nbformat_minor": 2
}
