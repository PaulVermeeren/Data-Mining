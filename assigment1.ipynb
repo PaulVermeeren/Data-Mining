{
 "cells": [
  {
   "cell_type": "code",
   "execution_count": 17,
   "metadata": {},
   "outputs": [
    {
     "name": "stdout",
     "output_type": "stream",
     "text": [
      "[[22, 0, 0, 28, 1], [46, 0, 1, 32, 0], [24, 1, 1, 24, 1], [25, 0, 0, 27, 1], [29, 1, 1, 32, 0], [45, 1, 1, 30, 0], [63, 1, 1, 58, 1], [36, 1, 0, 52, 1], [23, 0, 1, 40, 0], [50, 1, 1, 28, 0]]\n",
      "[0, 0, 0, 0, 0, 1, 1, 1, 1, 1]\n"
     ]
    }
   ],
   "source": [
    "import pandas as pd\n",
    "\n",
    "file_path = 'credit.txt'\n",
    "df = pd.read_csv(file_path, delimiter=',')\n",
    "x = df.drop(columns='class').values.tolist()\n",
    "y = df['class'].values.tolist()"
   ]
  },
  {
   "cell_type": "code",
   "execution_count": 2,
   "metadata": {},
   "outputs": [],
   "source": [
    "def tree_grow(x, y, nmin, minleaf, nfeat):\n",
    "\n",
    "\n",
    "    def tree_grow_b(x, y, nmin, minleaf, nfeat, m):\n",
    "        return\n",
    "    \n",
    "\n",
    "    return\n",
    "        \n",
    "\n",
    "def tree_pred(x, tr):\n",
    "\n",
    "\n",
    "    def tree_pred_b(trees, x):\n",
    "        return\n",
    "    \n",
    "\n",
    "    return"
   ]
  },
  {
   "cell_type": "code",
   "execution_count": null,
   "metadata": {},
   "outputs": [],
   "source": []
  }
 ],
 "metadata": {
  "kernelspec": {
   "display_name": "base",
   "language": "python",
   "name": "python3"
  },
  "language_info": {
   "codemirror_mode": {
    "name": "ipython",
    "version": 3
   },
   "file_extension": ".py",
   "mimetype": "text/x-python",
   "name": "python",
   "nbconvert_exporter": "python",
   "pygments_lexer": "ipython3",
   "version": "3.9.13"
  },
  "orig_nbformat": 4
 },
 "nbformat": 4,
 "nbformat_minor": 2
}
