{
 "cells": [
  {
   "cell_type": "code",
   "execution_count": 2,
   "metadata": {},
   "outputs": [],
   "source": [
    "import pandas as pd\n",
    "\n",
    "file_path = 'credit.txt'\n",
    "df = pd.read_csv(file_path, delimiter=',')\n",
    "x = df.drop(columns='class').values.tolist()\n",
    "y = df['class'].values.tolist()"
   ]
  },
  {
   "cell_type": "code",
   "execution_count": 3,
   "metadata": {},
   "outputs": [],
   "source": [
    "class Node:\n",
    "    def __init__(self, value=None):\n",
    "        self.feature = None # feature index\n",
    "        self.threshold = None # feature threshold\n",
    "        self.value = value # feature index majority\n",
    "        self.children = [] # child nodes\n",
    "\n",
    "    def add(self, child):\n",
    "        self.children.append(child)\n",
    "\n",
    "    def remove(self, child):\n",
    "        self.children.remove(child)\n",
    "\n",
    "    def __str__(self):\n",
    "        return str(self.value)\n"
   ]
  },
  {
   "cell_type": "code",
   "execution_count": 7,
   "metadata": {},
   "outputs": [
    {
     "name": "stdout",
     "output_type": "stream",
     "text": [
      "([[22, 0, 0, 28, 1], [24, 1, 1, 24, 1], [25, 0, 0, 27, 1], [29, 1, 1, 32, 0], [36, 1, 0, 52, 1], [23, 0, 1, 40, 0]], [[46, 0, 1, 32, 0], [45, 1, 1, 30, 0], [63, 1, 1, 58, 1], [50, 1, 1, 28, 0]], [0, 0, 0, 0, 1, 1], [0, 1, 1, 1])\n"
     ]
    }
   ],
   "source": [
    "def split(x, y, feature, threshold):\n",
    "    x1 = []\n",
    "    x2 = []\n",
    "    y1 = []\n",
    "    y2 = []\n",
    "    for i in range(len(x)):\n",
    "        if x[i][feature] < threshold:\n",
    "            x1.append(x[i])\n",
    "            y1.append(y[i])\n",
    "        else:\n",
    "            x2.append(x[i])\n",
    "            y2.append(y[i])\n",
    "    return x1,x2,y1,y2"
   ]
  },
  {
   "cell_type": "code",
   "execution_count": 10,
   "metadata": {},
   "outputs": [
    {
     "name": "stdout",
     "output_type": "stream",
     "text": [
      "22\n",
      "46\n",
      "24\n",
      "25\n",
      "29\n",
      "45\n",
      "63\n",
      "36\n",
      "23\n",
      "50\n"
     ]
    }
   ],
   "source": [
    "for i in range(len(x)-1):\n",
    "    print(x[i][0])"
   ]
  },
  {
   "cell_type": "code",
   "execution_count": null,
   "metadata": {},
   "outputs": [],
   "source": [
    "import random\n",
    "from collections import Counter\n",
    "\n",
    "def pure(y):\n",
    "    if len(set(y)) == 1: # if all the same classes in remaining \n",
    "        return True\n",
    "    else:\n",
    "        return False\n",
    "\n",
    "def tree_grow(x, y, nmin, minleaf, nfeat):\n",
    "    # nmin: if a node contains fewer cases than nmin, it becomes a leaf node.\n",
    "\n",
    "    # minleaf: a split that creates a node with fewer than minleaf observations is not acceptable.\n",
    "    #If there is no split that meets the minleaf constraint, the node becomes a leaf node. use GINI\n",
    "\n",
    "    #nfeat we first draw at random nfeat features from which the best split is to be selected.\n",
    "\n",
    "    while len(x) > 0:\n",
    "        if pure(y): # if pure\n",
    "            current_node.value = y[0]\n",
    "\n",
    "        if len(y) < nmin: # if fewer cases than nmin\n",
    "            current_node.value = max(y, key=y.count)\n",
    "\n",
    "        ## do GINI\n",
    "\n",
    "        best_split = split(x, best_feature, best_threshold) # x1,x2,y1,y2\n",
    "        for i in range(2): # twice calling tree grow for each split\n",
    "            parent = tree_grow(best_split[i], best_split[i+2], nmin, minleaf, nfeat)\n",
    "        \n",
    "    return root\n",
    "\n",
    "\n",
    "    def tree_grow_b(x, y, nmin, minleaf, nfeat, m):\n",
    "        return\n",
    "    \n",
    "\n",
    "    return\n",
    "        \n",
    "\n",
    "def tree_pred(x, tr):\n",
    "\n",
    "\n",
    "    def tree_pred_b(trees, x):\n",
    "        return\n",
    "    \n",
    "\n",
    "    return\n",
    "\n",
    "\n",
    "root = Node()\n",
    "current_node = root\n",
    "\n",
    "tree_grow(x,y)"
   ]
  },
  {
   "cell_type": "code",
   "execution_count": null,
   "metadata": {},
   "outputs": [],
   "source": []
  }
 ],
 "metadata": {
  "kernelspec": {
   "display_name": "base",
   "language": "python",
   "name": "python3"
  },
  "language_info": {
   "codemirror_mode": {
    "name": "ipython",
    "version": 3
   },
   "file_extension": ".py",
   "mimetype": "text/x-python",
   "name": "python",
   "nbconvert_exporter": "python",
   "pygments_lexer": "ipython3",
   "version": "3.9.13"
  },
  "orig_nbformat": 4
 },
 "nbformat": 4,
 "nbformat_minor": 2
}
